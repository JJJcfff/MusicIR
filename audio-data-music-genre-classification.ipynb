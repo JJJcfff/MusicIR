{
 "metadata": {
  "kaggle": {
   "accelerator": "none",
   "dataSources": [],
   "dockerImageVersionId": 30558,
   "isGpuEnabled": false,
   "isInternetEnabled": true,
   "language": "python",
   "sourceType": "notebook"
  },
  "kernelspec": {
   "display_name": "Python 3",
   "language": "python",
   "name": "python3"
  },
  "language_info": {
   "codemirror_mode": {
    "name": "ipython",
    "version": 3
   },
   "file_extension": ".py",
   "mimetype": "text/x-python",
   "name": "python",
   "nbconvert_exporter": "python",
   "pygments_lexer": "ipython3",
   "version": "3.10.12"
  }
 },
 "nbformat_minor": 4,
 "nbformat": 4,
 "cells": [
  {
   "cell_type": "markdown",
   "source": [
    "<div style=\"font-family: 'Segoe UI', Tahoma, Geneva, Verdana, sans-serif; text-align: center;\">\n",
    "    <img src = \"https://i.imgur.com/AbTwM3D.png\" width = 450, height= 450>\n",
    "    <div style=\"font-size: 62px; color: #121212; text-shadow: 2px 4px 8px rgba(0,0,0,0.2);\n",
    "                margin-top: 0;\"><b>Audio Data: Music Genre Classification</b></div>\n",
    "        <hr style=\"border: none;\n",
    "               border-top: 1.25px solid #121212;\n",
    "               width: auto;\n",
    "               margin-top: 0;\n",
    "               margin-bottom: 0;\n",
    "               margin-left: auto;\n",
    "               margin-right: auto;\n",
    "               height: 0;\">\n",
    "    <div style=\"font-weight: bold;\n",
    "                text-transform: uppercase;\n",
    "                margin-top: 50px;\n",
    "                letter-spacing: 2.5px;\n",
    "                color: #121212;\n",
    "                \">2023 | <a href =\"https://www.kaggle.com/lusfernandotorres/\">© Luis Fernando Torres</a></div>\n",
    "</div>"
   ],
   "metadata": {}
  },
  {
   "cell_type": "markdown",
   "source": [
    "<br><br><br>\n",
    "<div style=\"font-family: 'Segoe UI',sans-serif; text-align: left; font-size: 16px; letter-spacing: 1.5px; color: #121212; margin-top: 25px; margin-bottom: 25px;\">\n",
    "    <b>Table of Contents</b>\n",
    "</div>\n",
    "<br>\n",
    "\n",
    "- [Introduction](#intro)<br><br>\n",
    "    - [Audio Data](#audio-data)<br><br>\n",
    "    - [The Model](#architecture)<br><br>\n",
    "    - [The Dataset](#dataset)<br><br>\n",
    "- [Exploratory Data Analysis](#EDA)<br><br>\n",
    "- [Audio Preprocessing](#preprocessing)<br><br>\n",
    "- [Fine-tuning HuBERT](#fine-tuning)<br><br>\n",
    "- [Conclusion](#conclusion)<br><br>"
   ],
   "metadata": {}
  },
  {
   "cell_type": "markdown",
   "source": [
    "<div id = 'intro'\n",
    "     style=\"font-family: 'Segoe UI', sans-serif; text-align: left;\">\n",
    "    <div style=\"font-size: 56px; letter-spacing: 4.25px;color: #121212;\n",
    "                text-shadow: 0 2px 2px rgba(0,0,0,0.2);\n",
    "                border-bottom: 1.25px solid #121212\"><b>Introduction</b></div>\n",
    "</div>"
   ],
   "metadata": {}
  },
  {
   "cell_type": "markdown",
   "source": [
    "<img style=\"float:left; margin-top: 0;\n",
    "    margin:0; \n",
    "    padding:20px;\" src = \"https://i.imgur.com/gezmKdI.png\" width = 230, height= 230>\n",
    "<p style=\"font-family: 'Segoe UI', san-serif; text-align: left;\n",
    "          font-size: 24px; letter-spacing: .85px;color: #121212; margin-top: 40px\">In the last few years, we have seen how <b>Deep Learning</b> has been able to bring revolutionary solutions across many industries on tasks related to image and text data. But besides the deeply explored fields of Natural Language Processing and Computer Vision, deep learning also allowed us to explore <b>audio data</b> in several ways.</p>\n",
    "          \n",
    "<p style=\"font-family: 'Segoe UI', san-serif; text-align: left;\n",
    "          font-size: 24px; letter-spacing: .85px;color: #121212; margin-top: 40px\">Audio classification is only one among several applications of Hugging Face's <b>🤗Transformers</b> in audio processing. It is particularly no that much different from other classification tasks in typical machine learning projects, where one or more labels must be assigned to a particular sample in the dataset.</p>\n",
    "          \n",
    "<p style=\"font-family: 'Segoe UI', san-serif; text-align: left;\n",
    "          font-size: 24px; letter-spacing: .85px;color: #121212; margin-top: 40px\">In audio processing, classification tasks might be based on identifying what is the language spoken in an audio recording, or detecting key words like <i>❝Hey Siri❞</i> to start a conversation with your personal assistant in your phone.</p>\n",
    "          \n",
    "<p style=\"font-family: 'Segoe UI', san-serif; text-align: left;\n",
    "          font-size: 24px; letter-spacing: .85px;color: #121212; margin-top: 40px\">Other than that, we also have several other examples where audio processing with Machine Learning can help us on a day-to-day basis.</p>"
   ],
   "metadata": {}
  },
  {
   "cell_type": "markdown",
   "source": [
    "<div style = \"margin-left: 25px;\">\n",
    "     \n",
    "<p style=\"font-family: 'Segoe UI', san-serif; text-align: left;\n",
    "          font-size: 24px; letter-spacing: .85px;color: #121212; margin-top: 40px\">• <b>Healthcare:</b> You can analyze cough sounds to detect possible respiratory conditions, or even detect stress through vocal patterns.</p>\n",
    "    \n",
    "<p style=\"font-family: 'Segoe UI', san-serif; text-align: left;\n",
    "          font-size: 24px; letter-spacing: .85px;color: #121212; margin-top: 40px\">• <b>Automotive:</b> In-car voice command assists in performing user commands for hands-free operation.</p>\n",
    "    \n",
    "<p style=\"font-family: 'Segoe UI', san-serif; text-align: left;\n",
    "          font-size: 24px; letter-spacing: .85px;color: #121212; margin-top: 40px\">• <b>Smart Homes:</b> Recognizing noises like glass breaking or alarms to detect emergencies. It can also be used for interpreting user commands for many home appliances.</p>\n",
    "    \n",
    "<p style=\"font-family: 'Segoe UI', san-serif; text-align: left;\n",
    "          font-size: 24px; letter-spacing: .85px;color: #121212; margin-top: 40px\">• <b>Industrial:</b> The analysis of sounds emitted by machines can help in monitoring possible maintenance necessities before failures happen.</p>\n",
    "    \n",
    "<p style=\"font-family: 'Segoe UI', san-serif; text-align: left;\n",
    "          font-size: 24px; letter-spacing: .85px;color: #121212; margin-top: 40px\">• <b>Communication:</b> Speech-to-Text applications, as well as Text-to-Speech applications. Noise cancellation can also be used to filter out background noise to improve communication quality.</p>\n",
    "    \n",
    "</div>"
   ],
   "metadata": {}
  },
  {
   "cell_type": "markdown",
   "source": [
    "<p style=\"font-family: 'Segoe UI', san-serif; text-align: left;\n",
    "          font-size: 24px; letter-spacing: .85px;color: #121212; margin-top: 40px\">In <b>this notebook</b>, we will walk through the process of using a pre-trained audio transformers for <b>audio classification</b> tasks. We will fine-tune a transformer model to perform <b>music genre classification</b>, where our model receives a music recording as input and labels it as genres like <i>pop</i> or <i>rock</i>.</p>\n",
    "          \n",
    "<p style=\"font-family: 'Segoe UI', san-serif; text-align: left;\n",
    "          font-size: 24px; letter-spacing: .85px;color: #121212; margin-top: 40px\">This kind of task is very present in streaming platforms like <b>Spotify</b> to recommend songs that are similar to the ones the user is currently listening to.</p>\n",
    "          \n",
    "<p style=\"font-family: 'Segoe UI', san-serif; text-align: left;\n",
    "          font-size: 24px; letter-spacing: .85px;color: #121212; margin-top: 40px\">The process you will see in this notebook is based on the <b><a href = \"https://huggingface.co/learn/audio-course/chapter0/introduction\">Hugging Face Audio Course</a></b>, which is available for free. I highly suggest you take the course for a more in-depth view into how to work with audio data for deep learning taks.</p>"
   ],
   "metadata": {}
  },
  {
   "cell_type": "markdown",
   "source": [
    "<div id = 'audio-data'\n",
    "     style=\"font-family: 'Segoe UI', sans-serif; text-align: left;\">\n",
    "    <div style=\"font-size: 32px; letter-spacing: 4.25px;color: #121212;\n",
    "                text-shadow: 0 2px 2px rgba(0,0,0,0.2);\"><b>Audio Data</b></div>\n",
    "</div>"
   ],
   "metadata": {}
  },
  {
   "cell_type": "markdown",
   "source": [
    "<p style=\"font-family: 'Segoe UI', san-serif; text-align: left;\n",
    "          font-size: 24px; letter-spacing: .85px;color: #121212; margin-top: 40px\">Before delving into the task we have at hand, let's first explore what exactly we refer to when talking about audio data.</p>\n",
    "          \n",
    "<p style=\"font-family: 'Segoe UI', san-serif; text-align: left;\n",
    "          font-size: 24px; letter-spacing: .85px;color: #121212; margin-top: 40px\">You might already be familiar with the concept of <b>sound waves</b>. These are vibrations that travel through air and are detected by our ears, which in turn help them to travel to our brain to interpret them as sounds.</p>\n",
    "         \n",
    "<p style=\"font-family: 'Segoe UI', san-serif; text-align: left;\n",
    "          font-size: 24px; letter-spacing: .85px;color: #121212; margin-top: 40px\">The problem with sound waves is that they are <b>continuous</b> signals consisting of an infinite number of values over time, which makes it difficult for digital devices to process and store them. To make it easier to work with them, we use <b>digital representation</b> of sound waves, that converts these infinite signal values into a series of <b>discreet values</b>.</p>\n",
    "          \n",
    "<p style=\"font-family: 'Segoe UI', san-serif; text-align: left;\n",
    "          font-size: 24px; letter-spacing: .85px;color: #121212; margin-top: 40px\">To get to this digital representation we perform something called <b>sampling</b>, which is the process of measuring the value of a continuous signal at fixed time samples. The <b>sampling rate/frequency</b> is a measure in $hertz$ ($Hz$) that describes the number of samples taken from an audio file in a one-second time frame . A CD-quality audio, for example, has a sampling rate of $44,100$ $Hz$, meaning that 44,100 sample are taken for every second of the recording.</p>\n",
    "          \n",
    "<p style=\"font-family: 'Segoe UI', san-serif; text-align: left;\n",
    "          font-size: 24px; letter-spacing: .85px;color: #121212; margin-top: 40px\">It is important to say that <b>every audio example</b> in a dataset must have the exact same sampling rate when working on any audio task. If you intent to use custom audio data to fine-tune a pre-trained model, the sampling rate of your data <b>must match</b> the sampling rate of the data the model was pre-trained on. One fundamental step of audio data preprocessing is called <b>Resampling</b>, which is exactly the process of making the sampling rates across the dataset match.</p>\n",
    "          \n",
    "<p style=\"font-family: 'Segoe UI', san-serif; text-align: left;\n",
    "          font-size: 24px; letter-spacing: .85px;color: #121212; margin-top: 40px\">Another important aspect of audio data is the <b>amplitude</b>. In digital audio, each audio sample records the amplitute of the audio wave at a certain point in time. The amplitude can be understood as the perception of <b>loudness</b>. It is measured in $decilbels$ ($dB$) and what it describes is the sound pressure levels at any given instant.</p>\n",
    "          \n",
    "<p style=\"font-family: 'Segoe UI', san-serif; text-align: left;\n",
    "          font-size: 24px; letter-spacing: .85px;color: #121212; margin-top: 40px\">The higher the amplitude, the louder the sound. While a normal speaking voice tends to be under 60 $dB$, a rock concert can be at around 125 $dB$.</p>"
   ],
   "metadata": {}
  },
  {
   "cell_type": "markdown",
   "source": [
    "<div id = 'architecture'\n",
    "     style=\"font-family: 'Segoe UI', sans-serif; text-align: left;\">\n",
    "    <div style=\"font-size: 32px; letter-spacing: 4.25px;color: #121212;\n",
    "                text-shadow: 0 2px 2px rgba(0,0,0,0.2);\"><b>The Model</b></div>\n",
    "</div>"
   ],
   "metadata": {}
  },
  {
   "cell_type": "markdown",
   "source": [
    "<p style=\"font-family: 'Segoe UI', san-serif; text-align: left;\n",
    "          font-size: 24px; letter-spacing: .85px;color: #121212; margin-top: 40px\">For this task, we are going to leverage the <b>Transformer architecture</b> to work with audio processing. Let's take a quick recap on what is the transformer architecture.</p>"
   ],
   "metadata": {}
  },
  {
   "cell_type": "markdown",
   "source": [
    "<center>\n",
    "    <img src = \"https://huggingface.co/datasets/huggingface-course/documentation-images/resolve/main/en/chapter1/transformers.svg\">\n",
    "<p style = \"font-size: 16px;\n",
    "            font-family: 'Segoe UI', sans-serif;\n",
    "            text-align: center;\n",
    "            margin-top: 10px;\">Transformer architecture. <br> Source: <a href = \"https://huggingface.co/learn/audio-course/chapter3/introduction\">Hugging Face</a></p>\n",
    "</center>"
   ],
   "metadata": {}
  },
  {
   "cell_type": "markdown",
   "source": [
    "<p style=\"font-family: 'Segoe UI', san-serif; text-align: left;\n",
    "          font-size: 24px; letter-spacing: .85px;color: #121212; margin-top: 40px\">The original Transformer architecture consists of an <b>encoder</b> and a <b>decoder</b>. The encoder's role is to extract and process understanding from the input data. In contrast, the decoder generates outputs based on both the data received from the encoder and its own previously generated sequences.</p>\n",
    "          \n",
    "<p style=\"font-family: 'Segoe UI', san-serif; text-align: left;\n",
    "          font-size: 24px; letter-spacing: .85px;color: #121212; margin-top: 40px\">The main element behind the power of transformer models are the <b>attention layers</b>, which aids the model in paying attention to certain elements in the input data while ignoring what may not be relevant enough for the task at hand.</p>\n",
    "          \n",
    "<p style=\"font-family: 'Segoe UI', san-serif; text-align: left;\n",
    "          font-size: 24px; letter-spacing: .85px;color: #121212; margin-top: 40px\">Some transformer-based models tend to use both the encoder and the decoder, whereas others use only one of the two. Encoder-only models might be good for tasks that require a deeper understanding of the input data, such as classification tasks. Decoder-only models tend to be very good at the task of generating texts, such as summarization or translation.</p>\n",
    "          \n",
    "<p style=\"font-family: 'Segoe UI', san-serif; text-align: left;\n",
    "          font-size: 24px; letter-spacing: .85px;color: #121212; margin-top: 40px\">Even though the original Transformer architecture was designed to work with text data, we already have many architectures designed to work with audio data. These models may differ on the type of audio data they take as input and the nuances inside their functioning. Overall, however, they tend to follow a very similar approach to that of the original Transformer.</p>"
   ],
   "metadata": {}
  },
  {
   "cell_type": "markdown",
   "source": [
    "<center>\n",
    "    <img src = \"https://i.imgur.com/1UDwGIz.png\">\n",
    "<p style = \"font-size: 16px;\n",
    "            font-family: 'Segoe UI', sans-serif;\n",
    "            text-align: center;\n",
    "            margin-top: 10px;\">Transformer architecture for audio input. <br>Source: <a href = \"https://huggingface.co/learn/audio-course/chapter3/introduction\">Hugging Face</a></p>\n",
    "</center>"
   ],
   "metadata": {}
  },
  {
   "cell_type": "markdown",
   "source": [
    "<p style=\"font-family: 'Segoe UI', san-serif; text-align: left;\n",
    "          font-size: 24px; letter-spacing: .85px;color: #121212; margin-top: 40px\">For our specific task, which is focused on labeling the genres of the music played in an audio file, we will need a model that takes audio as input and gives us as output what is the most probable genre/label to that song.</p>\n",
    "          \n",
    "<p style=\"font-family: 'Segoe UI', san-serif; text-align: left;\n",
    "          font-size: 24px; letter-spacing: .85px;color: #121212; margin-top: 40px\">The <b>HuBERT</b> model, proposed in the 2021 research paper <i><a href = \"https://arxiv.org/pdf/2106.07447.pdf\">HuBERT: Self-Supervised Speech Representation Learning by Masked Prediction of Hidden Units</a></i> by Hsu et al., is an <b>encoder-only</b> model that is ideal for the task of audio classification.</p>\n",
    "          \n",
    "<p style=\"font-family: 'Segoe UI', san-serif; text-align: left;\n",
    "          font-size: 24px; letter-spacing: .85px;color: #121212; margin-top: 40px\">As the name suggests, HuBERT works very closely with how the BERT model works. The main idea is to <b>mask</b> certain parts of the input audio, and the model is trained to learn how to predict these masked segments. It also uses <b>cluster ensembles</b> to generate pseudo labels that help in guiding the learning process in predicting the masked parts.</p>"
   ],
   "metadata": {}
  },
  {
   "cell_type": "markdown",
   "source": [
    "<div id = 'dataset'\n",
    "     style=\"font-family: 'Segoe UI', sans-serif; text-align: left;\">\n",
    "    <div style=\"font-size: 32px; letter-spacing: 4.25px;color: #121212;\n",
    "                text-shadow: 0 2px 2px rgba(0,0,0,0.2);\"><b>The Dataset</b></div>\n",
    "</div>"
   ],
   "metadata": {}
  },
  {
   "cell_type": "markdown",
   "source": [
    "<p style=\"font-family: 'Segoe UI', san-serif; text-align: left;\n",
    "          font-size: 24px; letter-spacing: .85px;color: #121212; margin-top: 40px\">In this notebook, we are going to use the <a href = \"https://huggingface.co/datasets/marsyas/gtzan\">GTZAN</a> dataset to fine-tune the model. </p>\n",
    "          \n",
    "<p style=\"font-family: 'Segoe UI', san-serif; text-align: left;\n",
    "          font-size: 24px; letter-spacing: .85px;color: #121212; margin-top: 40px\">Briefly introducing, this dataset contains over 500 samples of 30-seconds long audio files consisting of music from several genres.</p>"
   ],
   "metadata": {}
  },
  {
   "cell_type": "markdown",
   "source": [
    "<p style=\"font-family: 'Segoe UI', san-serif; text-align: left;\n",
    "          font-size: 24px; letter-spacing: .85px;color: #121212; margin-top: 40px\">Let's start by loading all the necessary libraries.</p>"
   ],
   "metadata": {}
  },
  {
   "cell_type": "code",
   "source": [
    "!pip install evaluate "
   ],
   "metadata": {
    "_kg_hide-input": true,
    "_kg_hide-output": true,
    "execution": {
     "iopub.execute_input": "2023-11-27T22:08:54.834406Z",
     "iopub.status.busy": "2023-11-27T22:08:54.833999Z",
     "iopub.status.idle": "2023-11-27T22:09:07.655014Z",
     "shell.execute_reply": "2023-11-27T22:09:07.654035Z",
     "shell.execute_reply.started": "2023-11-27T22:08:54.834356Z"
    },
    "trusted": true,
    "ExecuteTime": {
     "end_time": "2024-04-28T01:44:02.760598700Z",
     "start_time": "2024-04-28T01:43:56.232581100Z"
    }
   },
   "execution_count": 5,
   "outputs": [
    {
     "name": "stdout",
     "output_type": "stream",
     "text": [
      "Collecting evaluate\n",
      "  Using cached evaluate-0.4.1-py3-none-any.whl.metadata (9.4 kB)\n",
      "Collecting datasets>=2.0.0 (from evaluate)\n",
      "  Using cached datasets-2.19.0-py3-none-any.whl.metadata (19 kB)\n",
      "Requirement already satisfied: numpy>=1.17 in c:\\python312\\lib\\site-packages (from evaluate) (1.26.4)\n",
      "Collecting dill (from evaluate)\n",
      "  Using cached dill-0.3.8-py3-none-any.whl.metadata (10 kB)\n",
      "Requirement already satisfied: pandas in c:\\python312\\lib\\site-packages (from evaluate) (2.2.2)\n",
      "Requirement already satisfied: requests>=2.19.0 in c:\\python312\\lib\\site-packages (from evaluate) (2.31.0)\n",
      "Requirement already satisfied: tqdm>=4.62.1 in c:\\python312\\lib\\site-packages (from evaluate) (4.66.2)\n",
      "Requirement already satisfied: xxhash in c:\\python312\\lib\\site-packages (from evaluate) (3.4.1)\n",
      "Collecting multiprocess (from evaluate)\n",
      "  Using cached multiprocess-0.70.16-py312-none-any.whl.metadata (7.2 kB)\n",
      "Collecting fsspec>=2021.05.0 (from fsspec[http]>=2021.05.0->evaluate)\n",
      "  Using cached fsspec-2024.3.1-py3-none-any.whl.metadata (6.8 kB)\n",
      "Collecting huggingface-hub>=0.7.0 (from evaluate)\n",
      "  Using cached huggingface_hub-0.22.2-py3-none-any.whl.metadata (12 kB)\n",
      "Requirement already satisfied: packaging in c:\\python312\\lib\\site-packages (from evaluate) (24.0)\n",
      "Collecting responses<0.19 (from evaluate)\n",
      "  Using cached responses-0.18.0-py3-none-any.whl.metadata (29 kB)\n",
      "Collecting filelock (from datasets>=2.0.0->evaluate)\n",
      "  Using cached filelock-3.13.4-py3-none-any.whl.metadata (2.8 kB)\n",
      "Collecting pyarrow>=12.0.0 (from datasets>=2.0.0->evaluate)\n",
      "  Using cached pyarrow-16.0.0-cp312-cp312-win_amd64.whl.metadata (3.1 kB)\n",
      "Collecting pyarrow-hotfix (from datasets>=2.0.0->evaluate)\n",
      "  Using cached pyarrow_hotfix-0.6-py3-none-any.whl.metadata (3.6 kB)\n",
      "Collecting aiohttp (from datasets>=2.0.0->evaluate)\n",
      "  Using cached aiohttp-3.9.5-cp312-cp312-win_amd64.whl.metadata (7.7 kB)\n",
      "Requirement already satisfied: pyyaml>=5.1 in c:\\python312\\lib\\site-packages (from datasets>=2.0.0->evaluate) (6.0.1)\n",
      "Requirement already satisfied: typing-extensions>=3.7.4.3 in c:\\python312\\lib\\site-packages (from huggingface-hub>=0.7.0->evaluate) (4.11.0)\n",
      "Requirement already satisfied: charset-normalizer<4,>=2 in c:\\python312\\lib\\site-packages (from requests>=2.19.0->evaluate) (3.3.2)\n",
      "Requirement already satisfied: idna<4,>=2.5 in c:\\python312\\lib\\site-packages (from requests>=2.19.0->evaluate) (3.7)\n",
      "Requirement already satisfied: urllib3<3,>=1.21.1 in c:\\python312\\lib\\site-packages (from requests>=2.19.0->evaluate) (2.2.1)\n",
      "Requirement already satisfied: certifi>=2017.4.17 in c:\\python312\\lib\\site-packages (from requests>=2.19.0->evaluate) (2024.2.2)\n",
      "Requirement already satisfied: colorama in c:\\python312\\lib\\site-packages (from tqdm>=4.62.1->evaluate) (0.4.6)\n",
      "Requirement already satisfied: python-dateutil>=2.8.2 in c:\\python312\\lib\\site-packages (from pandas->evaluate) (2.9.0.post0)\n",
      "Requirement already satisfied: pytz>=2020.1 in c:\\python312\\lib\\site-packages (from pandas->evaluate) (2024.1)\n",
      "Requirement already satisfied: tzdata>=2022.7 in c:\\python312\\lib\\site-packages (from pandas->evaluate) (2024.1)\n",
      "Collecting aiosignal>=1.1.2 (from aiohttp->datasets>=2.0.0->evaluate)\n",
      "  Using cached aiosignal-1.3.1-py3-none-any.whl.metadata (4.0 kB)\n",
      "Requirement already satisfied: attrs>=17.3.0 in c:\\python312\\lib\\site-packages (from aiohttp->datasets>=2.0.0->evaluate) (23.2.0)\n",
      "Collecting frozenlist>=1.1.1 (from aiohttp->datasets>=2.0.0->evaluate)\n",
      "  Using cached frozenlist-1.4.1-cp312-cp312-win_amd64.whl.metadata (12 kB)\n",
      "Collecting multidict<7.0,>=4.5 (from aiohttp->datasets>=2.0.0->evaluate)\n",
      "  Using cached multidict-6.0.5-cp312-cp312-win_amd64.whl.metadata (4.3 kB)\n",
      "Collecting yarl<2.0,>=1.0 (from aiohttp->datasets>=2.0.0->evaluate)\n",
      "  Using cached yarl-1.9.4-cp312-cp312-win_amd64.whl.metadata (32 kB)\n",
      "Requirement already satisfied: six>=1.5 in c:\\python312\\lib\\site-packages (from python-dateutil>=2.8.2->pandas->evaluate) (1.16.0)\n",
      "Using cached evaluate-0.4.1-py3-none-any.whl (84 kB)\n",
      "Using cached datasets-2.19.0-py3-none-any.whl (542 kB)\n",
      "Using cached dill-0.3.8-py3-none-any.whl (116 kB)\n",
      "Using cached fsspec-2024.3.1-py3-none-any.whl (171 kB)\n",
      "Using cached huggingface_hub-0.22.2-py3-none-any.whl (388 kB)\n",
      "Using cached responses-0.18.0-py3-none-any.whl (38 kB)\n",
      "Using cached multiprocess-0.70.16-py312-none-any.whl (146 kB)\n",
      "Using cached aiohttp-3.9.5-cp312-cp312-win_amd64.whl (369 kB)\n",
      "Using cached pyarrow-16.0.0-cp312-cp312-win_amd64.whl (25.8 MB)\n",
      "Using cached filelock-3.13.4-py3-none-any.whl (11 kB)\n",
      "Using cached pyarrow_hotfix-0.6-py3-none-any.whl (7.9 kB)\n",
      "Using cached aiosignal-1.3.1-py3-none-any.whl (7.6 kB)\n",
      "Using cached frozenlist-1.4.1-cp312-cp312-win_amd64.whl (50 kB)\n",
      "Using cached multidict-6.0.5-cp312-cp312-win_amd64.whl (27 kB)\n",
      "Using cached yarl-1.9.4-cp312-cp312-win_amd64.whl (76 kB)\n",
      "Installing collected packages: pyarrow-hotfix, pyarrow, multidict, fsspec, frozenlist, filelock, dill, yarl, responses, multiprocess, huggingface-hub, aiosignal, aiohttp, datasets, evaluate\n"
     ]
    },
    {
     "name": "stderr",
     "output_type": "stream",
     "text": [
      "WARNING: Ignoring invalid distribution ~python (C:\\Python312\\Lib\\site-packages)\n",
      "WARNING: Ignoring invalid distribution ~python (C:\\Python312\\Lib\\site-packages)\n",
      "WARNING: Ignoring invalid distribution ~python (C:\\Python312\\Lib\\site-packages)\n",
      "ERROR: Could not install packages due to an OSError: [Errno 13] Permission denied: 'C:\\\\Python312\\\\Scripts\\\\get_gprof'\n",
      "Consider using the `--user` option or check the permissions.\n",
      "\n",
      "WARNING: Ignoring invalid distribution ~python (C:\\Python312\\Lib\\site-packages)\n"
     ]
    }
   ]
  },
  {
   "cell_type": "code",
   "source": [
    "# Importing Libraries\n",
    "\n",
    "# Data Handling\n",
    "import pandas as pd\n",
    "import numpy as np\n",
    "from datasets import Dataset, load_dataset\n",
    "import shutil\n",
    "from IPython.display import Audio\n",
    "\n",
    "# Data Visualization\n",
    "import plotly.express as px\n",
    "import plotly.graph_objs as go\n",
    "import plotly.subplots as sp\n",
    "from plotly.subplots import make_subplots\n",
    "import plotly.figure_factory as ff\n",
    "import plotly.io as pio\n",
    "from IPython.display import display\n",
    "from plotly.offline import init_notebook_mode\n",
    "init_notebook_mode(connected=True)\n",
    "import librosa\n",
    "import matplotlib.pyplot as plt\n",
    "import librosa.display\n",
    "\n",
    "#sklearn\n",
    "from sklearn.model_selection import train_test_split\n",
    "\n",
    "# Statistics & Mathematics\n",
    "import scipy.stats as stats\n",
    "import statsmodels.api as sm\n",
    "from scipy.stats import shapiro, skew, anderson, kstest, gaussian_kde,spearmanr\n",
    "import math\n",
    "\n",
    "# PyTorch\n",
    "import torch\n",
    "\n",
    "# Hiding warnings\n",
    "import warnings\n",
    "warnings.filterwarnings(\"ignore\")"
   ],
   "metadata": {
    "_kg_hide-input": true,
    "_kg_hide-output": true,
    "execution": {
     "iopub.execute_input": "2023-11-27T22:09:07.657236Z",
     "iopub.status.busy": "2023-11-27T22:09:07.656958Z",
     "iopub.status.idle": "2023-11-27T22:09:15.183695Z",
     "shell.execute_reply": "2023-11-27T22:09:15.182883Z",
     "shell.execute_reply.started": "2023-11-27T22:09:07.657210Z"
    },
    "trusted": true,
    "ExecuteTime": {
     "end_time": "2024-04-28T01:44:02.778946500Z",
     "start_time": "2024-04-28T01:44:02.762551Z"
    }
   },
   "execution_count": 6,
   "outputs": [
    {
     "ename": "ModuleNotFoundError",
     "evalue": "No module named 'datasets'",
     "output_type": "error",
     "traceback": [
      "\u001B[1;31m---------------------------------------------------------------------------\u001B[0m",
      "\u001B[1;31mModuleNotFoundError\u001B[0m                       Traceback (most recent call last)",
      "Cell \u001B[1;32mIn[6], line 6\u001B[0m\n\u001B[0;32m      4\u001B[0m \u001B[38;5;28;01mimport\u001B[39;00m \u001B[38;5;21;01mpandas\u001B[39;00m \u001B[38;5;28;01mas\u001B[39;00m \u001B[38;5;21;01mpd\u001B[39;00m\n\u001B[0;32m      5\u001B[0m \u001B[38;5;28;01mimport\u001B[39;00m \u001B[38;5;21;01mnumpy\u001B[39;00m \u001B[38;5;28;01mas\u001B[39;00m \u001B[38;5;21;01mnp\u001B[39;00m\n\u001B[1;32m----> 6\u001B[0m \u001B[38;5;28;01mfrom\u001B[39;00m \u001B[38;5;21;01mdatasets\u001B[39;00m \u001B[38;5;28;01mimport\u001B[39;00m Dataset, load_dataset\n\u001B[0;32m      7\u001B[0m \u001B[38;5;28;01mimport\u001B[39;00m \u001B[38;5;21;01mshutil\u001B[39;00m\n\u001B[0;32m      8\u001B[0m \u001B[38;5;28;01mfrom\u001B[39;00m \u001B[38;5;21;01mIPython\u001B[39;00m\u001B[38;5;21;01m.\u001B[39;00m\u001B[38;5;21;01mdisplay\u001B[39;00m \u001B[38;5;28;01mimport\u001B[39;00m Audio\n",
      "\u001B[1;31mModuleNotFoundError\u001B[0m: No module named 'datasets'"
     ]
    }
   ]
  },
  {
   "cell_type": "code",
   "source": [
    "# Transformers\n",
    "from transformers import AutoFeatureExtractor\n",
    "from transformers import AutoModelForAudioClassification\n",
    "from transformers import TrainingArguments\n",
    "from transformers import Trainer\n",
    "\n",
    "# Evaluate\n",
    "import evaluate"
   ],
   "metadata": {
    "execution": {
     "iopub.execute_input": "2023-11-27T22:09:15.185544Z",
     "iopub.status.busy": "2023-11-27T22:09:15.184885Z",
     "iopub.status.idle": "2023-11-27T22:09:25.693838Z",
     "shell.execute_reply": "2023-11-27T22:09:25.692853Z",
     "shell.execute_reply.started": "2023-11-27T22:09:15.185507Z"
    },
    "trusted": true,
    "ExecuteTime": {
     "end_time": "2024-04-28T01:39:59.397423200Z",
     "start_time": "2024-04-28T01:39:59.395911200Z"
    }
   },
   "execution_count": null,
   "outputs": []
  },
  {
   "cell_type": "code",
   "source": [
    "# Checking if GPU is available\n",
    "if torch.cuda.is_available():\n",
    "    print(\"GPU is available. \\nUsing GPU\")\n",
    "    device = torch.device('cuda')\n",
    "else:\n",
    "    print(\"GPU is not available. \\nUsing CPU\")\n",
    "    device = torch.device('cpu')"
   ],
   "metadata": {
    "_kg_hide-input": true,
    "execution": {
     "iopub.execute_input": "2023-11-27T22:09:25.696759Z",
     "iopub.status.busy": "2023-11-27T22:09:25.696460Z",
     "iopub.status.idle": "2023-11-27T22:09:25.726972Z",
     "shell.execute_reply": "2023-11-27T22:09:25.726068Z",
     "shell.execute_reply.started": "2023-11-27T22:09:25.696725Z"
    },
    "trusted": true,
    "ExecuteTime": {
     "end_time": "2024-04-28T01:39:59.397930400Z",
     "start_time": "2024-04-28T01:39:59.397423200Z"
    }
   },
   "execution_count": null,
   "outputs": []
  },
  {
   "cell_type": "code",
   "source": [
    "!nvidia-smi # Checking GPU"
   ],
   "metadata": {
    "execution": {
     "iopub.execute_input": "2023-11-27T22:09:25.729041Z",
     "iopub.status.busy": "2023-11-27T22:09:25.728243Z",
     "iopub.status.idle": "2023-11-27T22:09:26.754715Z",
     "shell.execute_reply": "2023-11-27T22:09:26.753593Z",
     "shell.execute_reply.started": "2023-11-27T22:09:25.729008Z"
    },
    "trusted": true,
    "ExecuteTime": {
     "end_time": "2024-04-28T01:39:59.398937Z",
     "start_time": "2024-04-28T01:39:59.398937Z"
    }
   },
   "execution_count": null,
   "outputs": []
  },
  {
   "cell_type": "code",
   "source": [
    "# Configuring notebook\n",
    "seed = 42\n",
    "paper_color = '#f5f7f6'\n",
    "bg_color = '#f5f7f6'\n",
    "colormap = 'cividis'\n",
    "# template = "
   ],
   "metadata": {
    "execution": {
     "iopub.execute_input": "2023-11-27T22:09:26.756532Z",
     "iopub.status.busy": "2023-11-27T22:09:26.756207Z",
     "iopub.status.idle": "2023-11-27T22:09:26.761385Z",
     "shell.execute_reply": "2023-11-27T22:09:26.760413Z",
     "shell.execute_reply.started": "2023-11-27T22:09:26.756498Z"
    },
    "trusted": true,
    "ExecuteTime": {
     "start_time": "2024-04-28T01:39:59.399943600Z"
    }
   },
   "execution_count": null,
   "outputs": []
  },
  {
   "cell_type": "markdown",
   "source": [
    "<div id = 'EDA'\n",
    "     style=\"font-family: 'Segoe UI', sans-serif; text-align: left;\">\n",
    "    <div style=\"font-size: 56px; letter-spacing: 4.25px;color: #121212;\n",
    "                text-shadow: 0 2px 2px rgba(0,0,0,0.2);\n",
    "                border-bottom: 1.25px solid #121212\"><b>Exploratory Data Analysis</b></div>\n",
    "</div>"
   ],
   "metadata": {}
  },
  {
   "cell_type": "markdown",
   "source": [
    "<img style=\"float:left; margin-top: 0;\n",
    "    margin:0; \n",
    "    padding:20px;\" src = \"https://i.imgur.com/2rKStBM.png\" width = 230, height= 230>\n",
    "<p style=\"font-family: 'Segoe UI', san-serif; text-align: left;\n",
    "          font-size: 24px; letter-spacing: .85px;color: #121212; margin-top: 40px\">The exploratory analysis of audio data is quite different from what you usually perform on other types of data. If I migh say so, it is extremely interesting and quite fun to do it. Did you know that you could <i>see</i> sound? Well, this is precisely what we are going to do here.</p>\n",
    "          \n",
    "<p style=\"font-family: 'Segoe UI', san-serif; text-align: left;\n",
    "          font-size: 24px; letter-spacing: .85px;color: #121212; margin-top: 40px\">Let's start by using the 🤗 Datasets library to load our data.</p>"
   ],
   "metadata": {}
  },
  {
   "cell_type": "code",
   "source": [
    "# Loading data with the Datasets lib\n",
    "df = load_dataset(\"marsyas/gtzan\")"
   ],
   "metadata": {
    "execution": {
     "iopub.execute_input": "2023-11-27T22:09:26.762797Z",
     "iopub.status.busy": "2023-11-27T22:09:26.762528Z",
     "iopub.status.idle": "2023-11-27T22:10:02.705628Z",
     "shell.execute_reply": "2023-11-27T22:10:02.704710Z",
     "shell.execute_reply.started": "2023-11-27T22:09:26.762774Z"
    },
    "trusted": true,
    "ExecuteTime": {
     "start_time": "2024-04-28T01:39:59.400942Z"
    }
   },
   "execution_count": null,
   "outputs": []
  },
  {
   "cell_type": "code",
   "source": [
    "df # Visualizing the dataset"
   ],
   "metadata": {
    "_kg_hide-input": true,
    "execution": {
     "iopub.execute_input": "2023-11-27T22:10:02.707064Z",
     "iopub.status.busy": "2023-11-27T22:10:02.706770Z",
     "iopub.status.idle": "2023-11-27T22:10:02.713747Z",
     "shell.execute_reply": "2023-11-27T22:10:02.712897Z",
     "shell.execute_reply.started": "2023-11-27T22:10:02.707038Z"
    },
    "trusted": true,
    "ExecuteTime": {
     "start_time": "2024-04-28T01:39:59.401945500Z"
    }
   },
   "execution_count": null,
   "outputs": []
  },
  {
   "cell_type": "markdown",
   "source": [
    "<p style=\"font-family: 'Segoe UI', san-serif; text-align: left;\n",
    "          font-size: 24px; letter-spacing: .85px;color: #121212; margin-top: 40px\">You can see that this dataset is not divided into training and validation sets, meaning we will have to split it later on. Overall, we have three diferent features, and <code>num_rows</code> tells us that we have <b>999 audio files</b>.</p>\n",
    "<p style=\"font-family: 'Segoe UI', san-serif; text-align: left;\n",
    "          font-size: 24px; letter-spacing: .85px;color: #121212; margin-top: 40px\">Let's start by creating a validation set, so we can explore the training set.</p>"
   ],
   "metadata": {}
  },
  {
   "cell_type": "code",
   "source": [
    "# Splitting data into training and validation\n",
    "df = df['train'].train_test_split(seed = seed, shuffle = True, \n",
    "                                  test_size = .2)"
   ],
   "metadata": {
    "execution": {
     "iopub.execute_input": "2023-11-27T22:10:02.715143Z",
     "iopub.status.busy": "2023-11-27T22:10:02.714873Z",
     "iopub.status.idle": "2023-11-27T22:10:06.850978Z",
     "shell.execute_reply": "2023-11-27T22:10:06.849999Z",
     "shell.execute_reply.started": "2023-11-27T22:10:02.715119Z"
    },
    "trusted": true,
    "ExecuteTime": {
     "start_time": "2024-04-28T01:39:59.403946500Z"
    }
   },
   "execution_count": null,
   "outputs": []
  },
  {
   "cell_type": "markdown",
   "source": [
    "<p style=\"font-family: 'Segoe UI', san-serif; text-align: left;\n",
    "          font-size: 24px; letter-spacing: .85px;color: #121212; margin-top: 40px\">With <code>shuffle = True</code> we ensure that samples are split into training and test randomly. With <code>test_size = .2</code> we ensure to use 80% of the data for training and 20% of it for validation.</p>\n",
    "          \n",
    "<p style=\"font-family: 'Segoe UI', san-serif; text-align: left;\n",
    "          font-size: 24px; letter-spacing: .85px;color: #121212; margin-top: 40px\">Let's see the dataset again.</p>"
   ],
   "metadata": {}
  },
  {
   "cell_type": "code",
   "source": [
    "df"
   ],
   "metadata": {
    "_kg_hide-input": true,
    "execution": {
     "iopub.execute_input": "2023-11-27T22:10:06.857530Z",
     "iopub.status.busy": "2023-11-27T22:10:06.857200Z",
     "iopub.status.idle": "2023-11-27T22:10:06.870204Z",
     "shell.execute_reply": "2023-11-27T22:10:06.869249Z",
     "shell.execute_reply.started": "2023-11-27T22:10:06.857496Z"
    },
    "trusted": true,
    "ExecuteTime": {
     "end_time": "2024-04-28T01:39:59.405942200Z",
     "start_time": "2024-04-28T01:39:59.404942100Z"
    }
   },
   "execution_count": null,
   "outputs": []
  },
  {
   "cell_type": "markdown",
   "source": [
    "<p style=\"font-family: 'Segoe UI', san-serif; text-align: left;\n",
    "          font-size: 24px; letter-spacing: .85px;color: #121212; margin-top: 40px\">Now we have a train dataset with 799 samples and a test dataset with 200 samples. Let's take a look at one of the audio files.</p>"
   ],
   "metadata": {}
  },
  {
   "cell_type": "code",
   "source": [
    "# Picking the third file in the training dataset\n",
    "print(\"file:\", df['train'][2]['file']) \n",
    "print('\\n')\n",
    "print(\"audio: \", df['train'][2]['audio']) \n",
    "print('\\n')\n",
    "print(\"genre:\", df['train'][2]['genre']) \n",
    "print('\\n')"
   ],
   "metadata": {
    "_kg_hide-input": true,
    "execution": {
     "iopub.execute_input": "2023-11-27T22:10:06.871594Z",
     "iopub.status.busy": "2023-11-27T22:10:06.871297Z",
     "iopub.status.idle": "2023-11-27T22:10:16.264069Z",
     "shell.execute_reply": "2023-11-27T22:10:16.263080Z",
     "shell.execute_reply.started": "2023-11-27T22:10:06.871569Z"
    },
    "trusted": true,
    "ExecuteTime": {
     "start_time": "2024-04-28T01:39:59.405942200Z"
    }
   },
   "execution_count": null,
   "outputs": []
  },
  {
   "cell_type": "markdown",
   "source": [
    "<p style=\"font-family: 'Segoe UI', san-serif; text-align: left;\n",
    "          font-size: 24px; letter-spacing: .85px;color: #121212; margin-top: 40px\">We can se that <code>file</code> describes the audio path, while <code>audio</code> contains some more information.</p>\n",
    "          \n",
    "<p style=\"font-family: 'Segoe UI', san-serif; text-align: left;\n",
    "          font-size: 24px; letter-spacing: .85px;color: #121212; margin-top: 40px\">Besides the path, we can also see that the audio files are represented as 1-dimensional arrays, where the value of the array represents the <b>amplitude</b> at that particular timestep.</p>\n",
    "          \n",
    "<p style=\"font-family: 'Segoe UI', san-serif; text-align: left;\n",
    "          font-size: 24px; letter-spacing: .85px;color: #121212; margin-top: 40px\">This particular song has a sampling rate of 22,050 $Hz$. We will confirm later on if all files are within that same sampling rate or not.</p>\n",
    "          \n",
    "<p style=\"font-family: 'Segoe UI', san-serif; text-align: left;\n",
    "          font-size: 24px; letter-spacing: .85px;color: #121212; margin-top: 40px\">The music genre is currently represented as an integer. Let's fix that and obtain their labels in a format that is human-readable.</p>"
   ],
   "metadata": {}
  },
  {
   "cell_type": "code",
   "source": [
    "# Obtaining human-readable label\n",
    "id2label_function = df['train'].features['genre'].int2str"
   ],
   "metadata": {
    "execution": {
     "iopub.execute_input": "2023-11-27T22:10:16.267036Z",
     "iopub.status.busy": "2023-11-27T22:10:16.265519Z",
     "iopub.status.idle": "2023-11-27T22:10:16.271306Z",
     "shell.execute_reply": "2023-11-27T22:10:16.270290Z",
     "shell.execute_reply.started": "2023-11-27T22:10:16.266978Z"
    },
    "trusted": true,
    "ExecuteTime": {
     "start_time": "2024-04-28T01:39:59.407449300Z"
    }
   },
   "execution_count": null,
   "outputs": []
  },
  {
   "cell_type": "code",
   "source": [
    "print(\"genre: \", id2label_function(df['train'][2]['genre']))"
   ],
   "metadata": {
    "execution": {
     "iopub.execute_input": "2023-11-27T22:10:16.272915Z",
     "iopub.status.busy": "2023-11-27T22:10:16.272570Z",
     "iopub.status.idle": "2023-11-27T22:10:19.716651Z",
     "shell.execute_reply": "2023-11-27T22:10:19.715646Z",
     "shell.execute_reply.started": "2023-11-27T22:10:16.272882Z"
    },
    "trusted": true,
    "ExecuteTime": {
     "start_time": "2024-04-28T01:39:59.408457200Z"
    }
   },
   "execution_count": null,
   "outputs": []
  },
  {
   "cell_type": "markdown",
   "source": [
    "<p style=\"font-family: 'Segoe UI', san-serif; text-align: left;\n",
    "          font-size: 24px; letter-spacing: .85px;color: #121212; margin-top: 40px\">We can see that the id <code>3</code> refers to the <code>disco</code> genre.</p>\n",
    "          \n",
    "<p style=\"font-family: 'Segoe UI', san-serif; text-align: left;\n",
    "          font-size: 24px; letter-spacing: .85px;color: #121212; margin-top: 40px\">Let's investigate if all sampling rates is the same across the dataset.</p>"
   ],
   "metadata": {}
  },
  {
   "cell_type": "code",
   "source": [
    "# Initializing variables\n",
    "sampling_rate_check = None\n",
    "all_same = True\n",
    "\n",
    "# Iterating through each sample\n",
    "for set_name in ['train', 'test']: # Iterating through both sets\n",
    "    for sample in df[set_name]:\n",
    "        sampling_rate = sample['audio']['sampling_rate']\n",
    "\n",
    "        if sampling_rate_check is None:\n",
    "            sampling_rate_check = sampling_rate\n",
    "        else:\n",
    "            if sampling_rate != sampling_rate_check:\n",
    "                all_same = False\n",
    "            break\n",
    "        \n",
    "# Printing result\n",
    "if all_same:\n",
    "    print(f\"All samples have the same sampling rate: {sampling_rate_check} Hz\")\n",
    "else:\n",
    "    print(\"The samples in the dataframe have different sampling rates.\")"
   ],
   "metadata": {
    "_kg_hide-input": true,
    "execution": {
     "iopub.execute_input": "2023-11-27T22:10:19.718062Z",
     "iopub.status.busy": "2023-11-27T22:10:19.717796Z",
     "iopub.status.idle": "2023-11-27T22:10:19.745325Z",
     "shell.execute_reply": "2023-11-27T22:10:19.744550Z",
     "shell.execute_reply.started": "2023-11-27T22:10:19.718039Z"
    },
    "trusted": true,
    "ExecuteTime": {
     "start_time": "2024-04-28T01:39:59.409463900Z"
    }
   },
   "execution_count": null,
   "outputs": []
  },
  {
   "cell_type": "markdown",
   "source": [
    "<p style=\"font-family: 'Segoe UI', san-serif; text-align: left;\n",
    "          font-size: 24px; letter-spacing: .85px;color: #121212; margin-top: 40px\">We have a confirmation that all audio files in both sets share the same $22,050$ $Hz$ sampling rate.</p>\n",
    "          \n",
    "<p style=\"font-family: 'Segoe UI', san-serif; text-align: left;\n",
    "          font-size: 24px; letter-spacing: .85px;color: #121212; margin-top: 40px\">Let's now count the labels.</p>"
   ],
   "metadata": {}
  },
  {
   "cell_type": "code",
   "source": [
    "labels = {} # Initializing empty list\n",
    "\n",
    "# Defining a function to count labels \n",
    "def count_genres(df):\n",
    "    for sample in df:\n",
    "        genre_label = id2label_function(sample['genre'])\n",
    "        \n",
    "        if genre_label in labels:\n",
    "            labels[genre_label] += 1\n",
    "            \n",
    "        else:\n",
    "            labels[genre_label] = 1\n",
    "            \n",
    "# Counting labels in both sets\n",
    "count_genres(df['train'])\n",
    "count_genres(df['test'])\n",
    "\n",
    "# Obtaining genres and count values\n",
    "genres = list(labels.keys())\n",
    "counts = list(labels.values())\n",
    "\n",
    "# Plotting bar plot \n",
    "fig = px.bar(x = genres, y = counts, text = counts)\n",
    "fig.update_traces(marker=dict(color=\"#4682B4\"))\n",
    "fig.update_layout(title = '<b>Genre Counts</b>', showlegend = True, height = 500, width = 750,\n",
    "                 plot_bgcolor=bg_color,paper_bgcolor=paper_color)\n",
    "fig.update_yaxes(title_text = '<b>Count</b>')\n",
    "fig.update_xaxes(title = '<b>Genres</b>')\n",
    "\n",
    "fig.show()"
   ],
   "metadata": {
    "_kg_hide-input": true,
    "execution": {
     "iopub.execute_input": "2023-11-27T22:10:19.746601Z",
     "iopub.status.busy": "2023-11-27T22:10:19.746332Z",
     "iopub.status.idle": "2023-11-27T22:10:26.868943Z",
     "shell.execute_reply": "2023-11-27T22:10:26.868015Z",
     "shell.execute_reply.started": "2023-11-27T22:10:19.746577Z"
    },
    "trusted": true,
    "ExecuteTime": {
     "start_time": "2024-04-28T01:39:59.411462900Z"
    }
   },
   "execution_count": null,
   "outputs": []
  },
  {
   "cell_type": "markdown",
   "source": [
    "<p style=\"font-family: 'Segoe UI', san-serif; text-align: left;\n",
    "          font-size: 24px; letter-spacing: .85px;color: #121212; margin-top: 40px\">Overall we have 100 samples for Rock, Disco, Country, Classical Music, Blues, Reggae, HipHop, Pop, and Metal. Jazz is the only genre with only 99 samples, this is due to a corrupted file that was removed from the dataset.</p>\n",
    "          \n",
    "<p style=\"font-family: 'Segoe UI', san-serif; text-align: left;\n",
    "          font-size: 24px; letter-spacing: .85px;color: #121212; margin-top: 40px\">After obtaining a bit more of insight about the data, we can now start the process of <i>\"seeing\"</i> our data, as I have mentioned before. The more efficient way of doing this is through <b>waveforms</b>, which can be plotted using the <a href = \"https://librosa.org/doc/latest/index.html\">librosa library</a>.</p>\n",
    "          \n",
    "<p style=\"font-family: 'Segoe UI', san-serif; text-align: left;\n",
    "          font-size: 24px; letter-spacing: .85px;color: #121212; margin-top: 40px\">A waveform illustrates changes in the amplitude of sound over time. In the <i>x-axis</i> we have the time feature, whereas in the <i>y-axis</i> we have amplitude values in a $[-1.00, 1.00]$ range. Let's take a look at some examples, listen to the files, and check their genres to see how they differ from one another.</p>"
   ],
   "metadata": {}
  },
  {
   "cell_type": "code",
   "source": [
    "# Selecting array sound & sampling rate\n",
    "array = df['train'][2]['audio']['array']\n",
    "sampling_rate = df['train'][2]['audio']['sampling_rate']\n",
    "\n",
    "# Plotting waveform with librosa\n",
    "plt.figure().set_figwidth(12)\n",
    "plt.title('Waveforms - Example 1')\n",
    "librosa.display.waveshow(array, sr = sampling_rate)\n",
    "plt.show()"
   ],
   "metadata": {
    "_kg_hide-input": true,
    "execution": {
     "iopub.execute_input": "2023-11-27T22:10:26.870454Z",
     "iopub.status.busy": "2023-11-27T22:10:26.870139Z",
     "iopub.status.idle": "2023-11-27T22:10:27.524929Z",
     "shell.execute_reply": "2023-11-27T22:10:27.523955Z",
     "shell.execute_reply.started": "2023-11-27T22:10:26.870428Z"
    },
    "trusted": true,
    "ExecuteTime": {
     "start_time": "2024-04-28T01:39:59.412466100Z"
    }
   },
   "execution_count": null,
   "outputs": []
  },
  {
   "cell_type": "code",
   "source": [
    "# Displaying audio file\n",
    "Audio(data = array, rate = sampling_rate)"
   ],
   "metadata": {
    "_kg_hide-input": true,
    "execution": {
     "iopub.execute_input": "2023-11-27T22:10:27.526904Z",
     "iopub.status.busy": "2023-11-27T22:10:27.526247Z",
     "iopub.status.idle": "2023-11-27T22:10:27.563716Z",
     "shell.execute_reply": "2023-11-27T22:10:27.562592Z",
     "shell.execute_reply.started": "2023-11-27T22:10:27.526869Z"
    },
    "trusted": true,
    "ExecuteTime": {
     "start_time": "2024-04-28T01:39:59.413462700Z"
    }
   },
   "execution_count": null,
   "outputs": []
  },
  {
   "cell_type": "code",
   "source": [
    "# Printing genre\n",
    "print(\"genre: \", id2label_function(df['train'][2]['genre']))"
   ],
   "metadata": {
    "_kg_hide-input": true,
    "execution": {
     "iopub.execute_input": "2023-11-27T22:10:27.565228Z",
     "iopub.status.busy": "2023-11-27T22:10:27.564905Z",
     "iopub.status.idle": "2023-11-27T22:10:27.578303Z",
     "shell.execute_reply": "2023-11-27T22:10:27.577408Z",
     "shell.execute_reply.started": "2023-11-27T22:10:27.565200Z"
    },
    "trusted": true,
    "ExecuteTime": {
     "start_time": "2024-04-28T01:39:59.415462400Z"
    }
   },
   "execution_count": null,
   "outputs": []
  },
  {
   "cell_type": "code",
   "source": [
    "array = df['train'][14]['audio']['array']\n",
    "sampling_rate = df['train'][14]['audio']['sampling_rate']\n",
    "\n",
    "plt.figure().set_figwidth(12)\n",
    "plt.title('Waveforms - Example 2')\n",
    "librosa.display.waveshow(array, sr = sampling_rate)\n",
    "plt.show()"
   ],
   "metadata": {
    "_kg_hide-input": true,
    "execution": {
     "iopub.execute_input": "2023-11-27T22:10:27.579651Z",
     "iopub.status.busy": "2023-11-27T22:10:27.579374Z",
     "iopub.status.idle": "2023-11-27T22:10:28.165323Z",
     "shell.execute_reply": "2023-11-27T22:10:28.164333Z",
     "shell.execute_reply.started": "2023-11-27T22:10:27.579626Z"
    },
    "trusted": true,
    "ExecuteTime": {
     "start_time": "2024-04-28T01:39:59.416463800Z"
    }
   },
   "execution_count": null,
   "outputs": []
  },
  {
   "cell_type": "code",
   "source": [
    "Audio(data = array, rate = sampling_rate)"
   ],
   "metadata": {
    "_kg_hide-input": true,
    "execution": {
     "iopub.execute_input": "2023-11-27T22:10:28.166921Z",
     "iopub.status.busy": "2023-11-27T22:10:28.166630Z",
     "iopub.status.idle": "2023-11-27T22:10:28.202386Z",
     "shell.execute_reply": "2023-11-27T22:10:28.201184Z",
     "shell.execute_reply.started": "2023-11-27T22:10:28.166895Z"
    },
    "trusted": true,
    "ExecuteTime": {
     "start_time": "2024-04-28T01:39:59.417465300Z"
    }
   },
   "execution_count": null,
   "outputs": []
  },
  {
   "cell_type": "code",
   "source": [
    "print(\"genre: \", id2label_function(df['train'][14]['genre']))"
   ],
   "metadata": {
    "_kg_hide-input": true,
    "execution": {
     "iopub.execute_input": "2023-11-27T22:10:28.203734Z",
     "iopub.status.busy": "2023-11-27T22:10:28.203478Z",
     "iopub.status.idle": "2023-11-27T22:10:28.217517Z",
     "shell.execute_reply": "2023-11-27T22:10:28.216339Z",
     "shell.execute_reply.started": "2023-11-27T22:10:28.203711Z"
    },
    "trusted": true,
    "ExecuteTime": {
     "start_time": "2024-04-28T01:39:59.418597100Z"
    }
   },
   "execution_count": null,
   "outputs": []
  },
  {
   "cell_type": "code",
   "source": [
    "array = df['train'][42]['audio']['array']\n",
    "sampling_rate = df['train'][42]['audio']['sampling_rate']\n",
    "\n",
    "plt.figure().set_figwidth(12)\n",
    "\n",
    "plt.title('Waveforms - Example 3')\n",
    "librosa.display.waveshow(array, sr = sampling_rate)\n",
    "plt.show()"
   ],
   "metadata": {
    "_kg_hide-input": true,
    "execution": {
     "iopub.execute_input": "2023-11-27T22:10:28.219492Z",
     "iopub.status.busy": "2023-11-27T22:10:28.219148Z",
     "iopub.status.idle": "2023-11-27T22:10:28.908252Z",
     "shell.execute_reply": "2023-11-27T22:10:28.907317Z",
     "shell.execute_reply.started": "2023-11-27T22:10:28.219456Z"
    },
    "trusted": true,
    "ExecuteTime": {
     "start_time": "2024-04-28T01:39:59.419597600Z"
    }
   },
   "execution_count": null,
   "outputs": []
  },
  {
   "cell_type": "code",
   "source": [
    "Audio(data = array, rate = sampling_rate)"
   ],
   "metadata": {
    "_kg_hide-input": true,
    "execution": {
     "iopub.execute_input": "2023-11-27T22:10:28.909589Z",
     "iopub.status.busy": "2023-11-27T22:10:28.909332Z",
     "iopub.status.idle": "2023-11-27T22:10:28.943551Z",
     "shell.execute_reply": "2023-11-27T22:10:28.942451Z",
     "shell.execute_reply.started": "2023-11-27T22:10:28.909565Z"
    },
    "trusted": true,
    "ExecuteTime": {
     "start_time": "2024-04-28T01:39:59.420600100Z"
    }
   },
   "execution_count": null,
   "outputs": []
  },
  {
   "cell_type": "code",
   "source": [
    "print(\"genre: \", id2label_function(df['train'][42]['genre']))"
   ],
   "metadata": {
    "_kg_hide-input": true,
    "execution": {
     "iopub.execute_input": "2023-11-27T22:10:28.945170Z",
     "iopub.status.busy": "2023-11-27T22:10:28.944859Z",
     "iopub.status.idle": "2023-11-27T22:10:28.958136Z",
     "shell.execute_reply": "2023-11-27T22:10:28.957077Z",
     "shell.execute_reply.started": "2023-11-27T22:10:28.945145Z"
    },
    "trusted": true,
    "ExecuteTime": {
     "start_time": "2024-04-28T01:39:59.422598500Z"
    }
   },
   "execution_count": null,
   "outputs": []
  },
  {
   "cell_type": "code",
   "source": [
    "array = df['train'][212]['audio']['array']\n",
    "sampling_rate = df['train'][212]['audio']['sampling_rate']\n",
    "\n",
    "plt.figure().set_figwidth(12)\n",
    "\n",
    "plt.title('Waveforms - Example 4')\n",
    "librosa.display.waveshow(array, sr = sampling_rate)\n",
    "plt.show()"
   ],
   "metadata": {
    "_kg_hide-input": true,
    "execution": {
     "iopub.execute_input": "2023-11-27T22:10:28.960091Z",
     "iopub.status.busy": "2023-11-27T22:10:28.959519Z",
     "iopub.status.idle": "2023-11-27T22:10:29.497724Z",
     "shell.execute_reply": "2023-11-27T22:10:29.496796Z",
     "shell.execute_reply.started": "2023-11-27T22:10:28.960058Z"
    },
    "trusted": true,
    "ExecuteTime": {
     "start_time": "2024-04-28T01:39:59.423597Z"
    }
   },
   "execution_count": null,
   "outputs": []
  },
  {
   "cell_type": "code",
   "source": [
    "Audio(data = array, rate = sampling_rate)"
   ],
   "metadata": {
    "_kg_hide-input": true,
    "execution": {
     "iopub.execute_input": "2023-11-27T22:10:29.499582Z",
     "iopub.status.busy": "2023-11-27T22:10:29.499180Z",
     "iopub.status.idle": "2023-11-27T22:10:29.534546Z",
     "shell.execute_reply": "2023-11-27T22:10:29.533620Z",
     "shell.execute_reply.started": "2023-11-27T22:10:29.499545Z"
    },
    "trusted": true,
    "ExecuteTime": {
     "end_time": "2024-04-28T01:39:59.552685300Z",
     "start_time": "2024-04-28T01:39:59.424599900Z"
    }
   },
   "execution_count": null,
   "outputs": []
  },
  {
   "cell_type": "code",
   "source": [
    "print(\"genre: \", id2label_function(df['train'][212]['genre']))"
   ],
   "metadata": {
    "_kg_hide-input": true,
    "execution": {
     "iopub.execute_input": "2023-11-27T22:10:29.535971Z",
     "iopub.status.busy": "2023-11-27T22:10:29.535689Z",
     "iopub.status.idle": "2023-11-27T22:10:29.549362Z",
     "shell.execute_reply": "2023-11-27T22:10:29.548142Z",
     "shell.execute_reply.started": "2023-11-27T22:10:29.535946Z"
    },
    "trusted": true,
    "ExecuteTime": {
     "start_time": "2024-04-28T01:39:59.425598100Z"
    }
   },
   "execution_count": null,
   "outputs": []
  },
  {
   "cell_type": "markdown",
   "source": [
    "<p style=\"font-family: 'Segoe UI', san-serif; text-align: left;\n",
    "          font-size: 24px; letter-spacing: .85px;color: #121212; margin-top: 40px\">Right above, we have four audio files from different genres: <code>disco</code>, <code>reggae</code>, <code>rock</code>, and <code>metal</code>. By looking at the waveforms, you can observe that the <code>reggae</code> example seems to be the <i>quieter</i>, with an amplitude ranging from -0.75 to 0.75 and lesser peaks to the extreme values of the range throughout the excerpt.</p>\n",
    "          \n",
    "<p style=\"font-family: 'Segoe UI', san-serif; text-align: left;\n",
    "          font-size: 24px; letter-spacing: .85px;color: #121212; margin-top: 40px\">The <code>disco</code> excerpt seems to be the one with the highest peaks of amplitude, reaching the maximum of -1.00 and 1.00. This could be a sign of <i>clipping</i>—a distortion that occurs whenever a signal exceeds the maximum level that can be accurately recorded.</p>\n",
    "          \n",
    "<p style=\"font-family: 'Segoe UI', san-serif; text-align: left;\n",
    "          font-size: 24px; letter-spacing: .85px;color: #121212; margin-top: 40px\">If you listen to the <code>metal</code> excerpt while listening to the audio, you will notice the song gets significantly <i>quieter</i> around the 13-second time frame, which is accurately captured in the waveform when there's a sudden reduction in the range of the peaks.</p>"
   ],
   "metadata": {}
  },
  {
   "cell_type": "markdown",
   "source": [
    "<div id = 'preprocessing'\n",
    "     style=\"font-family: 'Segoe UI', sans-serif; text-align: left;\">\n",
    "    <div style=\"font-size: 56px; letter-spacing: 4.25px;color: #121212;\n",
    "                text-shadow: 0 2px 2px rgba(0,0,0,0.2);\n",
    "                border-bottom: 1.25px solid #121212\"><b>Audio Preprocessing</b></div>\n",
    "</div>"
   ],
   "metadata": {}
  },
  {
   "cell_type": "markdown",
   "source": [
    "<img style=\"float:left; margin-top: 0;\n",
    "    margin:0; \n",
    "    padding:20px;\" src = \"https://i.imgur.com/bm6Keu0.png\" width = 230, height= 230>\n",
    "<p style=\"font-family: 'Segoe UI', san-serif; text-align: left;\n",
    "          font-size: 24px; letter-spacing: .85px;color: #121212; margin-top: 40px\">After analysing the data, we must prepare it to be used as input for fine-tuning our model. Similar to the tokenization process in Natural Language Processing, audio models require the input to be encoded in a format that the model can understand.</p>\n",
    "          \n",
    "<p style=\"font-family: 'Segoe UI', san-serif; text-align: left;\n",
    "          font-size: 24px; letter-spacing: .85px;color: #121212; margin-top: 40px\">Luckily, the 🤗 Transformers library has a class called <code>AutoFeatureExtractor</code> that is efficient in selecting the correct feature extractor for any given model. </p>\n",
    "          \n",
    "<p style=\"font-family: 'Segoe UI', san-serif; text-align: left;\n",
    "          font-size: 24px; letter-spacing: .85px;color: #121212; margin-top: 40px\">As I have mentioned in the introduction, we are going to use the HuBERT model for this task. However, I will use the DistilHuBERT model, which is a much smaller—thus <i>distilled</i>—version of the original model.</p>"
   ],
   "metadata": {}
  },
  {
   "cell_type": "code",
   "source": [
    "# Loading model\n",
    "model = \"ntu-spml/distilhubert\"\n",
    "\n",
    "# Instantiating feature extractor\n",
    "feature_extractor = AutoFeatureExtractor.from_pretrained(model, do_normalize = True, return_attention_mask = True)"
   ],
   "metadata": {
    "execution": {
     "iopub.execute_input": "2023-11-27T22:10:29.556486Z",
     "iopub.status.busy": "2023-11-27T22:10:29.555910Z",
     "iopub.status.idle": "2023-11-27T22:10:29.784610Z",
     "shell.execute_reply": "2023-11-27T22:10:29.783748Z",
     "shell.execute_reply.started": "2023-11-27T22:10:29.556452Z"
    },
    "trusted": true,
    "ExecuteTime": {
     "start_time": "2024-04-28T01:39:59.427603100Z"
    }
   },
   "execution_count": null,
   "outputs": []
  },
  {
   "cell_type": "markdown",
   "source": [
    "<p style=\"font-family: 'Segoe UI', san-serif; text-align: left;\n",
    "          font-size: 24px; letter-spacing: .85px;color: #121212; margin-top: 40px\">We need to ensure that the sampling rate of the model matches the $22,050$ $Hz$ sampling rate of the dataset. We can use <code>feature_extractor</code> to check the sampling rate of the model.</p>"
   ],
   "metadata": {}
  },
  {
   "cell_type": "code",
   "source": [
    "# Checking sampling rate\n",
    "sampling_rate = feature_extractor.sampling_rate\n",
    "print(f'DistilHuBERT Sampling Rate: {sampling_rate} Hz')"
   ],
   "metadata": {
    "_kg_hide-input": true,
    "execution": {
     "iopub.execute_input": "2023-11-27T22:10:29.786148Z",
     "iopub.status.busy": "2023-11-27T22:10:29.785856Z",
     "iopub.status.idle": "2023-11-27T22:10:29.791461Z",
     "shell.execute_reply": "2023-11-27T22:10:29.790312Z",
     "shell.execute_reply.started": "2023-11-27T22:10:29.786104Z"
    },
    "trusted": true,
    "ExecuteTime": {
     "start_time": "2024-04-28T01:39:59.428115300Z"
    }
   },
   "execution_count": null,
   "outputs": []
  },
  {
   "cell_type": "markdown",
   "source": [
    "<p style=\"font-family: 'Segoe UI', san-serif; text-align: left;\n",
    "          font-size: 24px; letter-spacing: .85px;color: #121212; margin-top: 40px\">We have different sampling rates. This is not a big issue. Let's just use the <code>cast_column()</code> method from the 🤗 Datasets library to resample our data.</p>"
   ],
   "metadata": {}
  },
  {
   "cell_type": "code",
   "source": [
    "from datasets import Audio\n",
    "\n",
    "# Resampling data\n",
    "df = df.cast_column(\"audio\", Audio(sampling_rate = 16000))"
   ],
   "metadata": {
    "execution": {
     "iopub.execute_input": "2023-11-27T22:10:29.793052Z",
     "iopub.status.busy": "2023-11-27T22:10:29.792672Z",
     "iopub.status.idle": "2023-11-27T22:10:29.809038Z",
     "shell.execute_reply": "2023-11-27T22:10:29.807954Z",
     "shell.execute_reply.started": "2023-11-27T22:10:29.792985Z"
    },
    "trusted": true,
    "ExecuteTime": {
     "start_time": "2024-04-28T01:39:59.429126700Z"
    }
   },
   "execution_count": null,
   "outputs": []
  },
  {
   "cell_type": "code",
   "source": [
    "# Checking new sampling rate\n",
    "print('\\n* * * Dataset After Resampling* * *')\n",
    "print('\\n' * 3)\n",
    "print(\"file:\", df['train'][2]['file']) \n",
    "print('\\n')\n",
    "print(\"audio: \", df['train'][2]['audio']) \n",
    "print('\\n')\n",
    "print(\"genre:\", df['train'][2]['genre']) \n",
    "print('\\n')"
   ],
   "metadata": {
    "_kg_hide-input": true,
    "execution": {
     "iopub.execute_input": "2023-11-27T22:10:29.810340Z",
     "iopub.status.busy": "2023-11-27T22:10:29.810052Z",
     "iopub.status.idle": "2023-11-27T22:10:29.870437Z",
     "shell.execute_reply": "2023-11-27T22:10:29.869530Z",
     "shell.execute_reply.started": "2023-11-27T22:10:29.810316Z"
    },
    "trusted": true,
    "ExecuteTime": {
     "start_time": "2024-04-28T01:39:59.430126600Z"
    }
   },
   "execution_count": null,
   "outputs": []
  },
  {
   "cell_type": "markdown",
   "source": [
    "<p style=\"font-family: 'Segoe UI', san-serif; text-align: left;\n",
    "          font-size: 24px; letter-spacing: .85px;color: #121212; margin-top: 40px\">You can now see that <code>sampling_rate: 16000</code>. Our resampling method was successful.</p>"
   ],
   "metadata": {}
  },
  {
   "cell_type": "markdown",
   "source": [
    "<p style=\"font-family: 'Segoe UI', san-serif; text-align: left;\n",
    "          font-size: 24px; letter-spacing: .85px;color: #121212; margin-top: 40px\">As you can see in the output above, the audio data is represented as a one-dimensional array (<code>[ 0.03352892,  0.05795968,  0.09609947, ..., -0.03805662,0.00101842,  0.01898582], dtype=float32</code>). For our model to converge during training, we must ensure that all inputs are within the <b>same range</b>. We will need to normalize our data by rescaling each sample to have mean $0$ and variance $1$.</p>"
   ],
   "metadata": {}
  },
  {
   "cell_type": "markdown",
   "source": [
    "<p style=\"font-family: 'Segoe UI', san-serif; text-align: left;\n",
    "          font-size: 24px; letter-spacing: .85px;color: #121212; margin-top: 40px\">Let's take a look at one example in the dataset.</p>"
   ],
   "metadata": {}
  },
  {
   "cell_type": "code",
   "source": [
    "# Computing mean and variance \n",
    "sample = df['train'][9]['audio']\n",
    "\n",
    "print('\\nExample Data:\\n')\n",
    "print(f\" Mean: {np.mean(sample['array']):.3}\\n\")\n",
    "print(f\" Variance: {np.var(sample['array']):.3}\\n\")"
   ],
   "metadata": {
    "_kg_hide-input": true,
    "execution": {
     "iopub.execute_input": "2023-11-27T22:10:29.871901Z",
     "iopub.status.busy": "2023-11-27T22:10:29.871601Z",
     "iopub.status.idle": "2023-11-27T22:10:29.896187Z",
     "shell.execute_reply": "2023-11-27T22:10:29.895387Z",
     "shell.execute_reply.started": "2023-11-27T22:10:29.871875Z"
    },
    "trusted": true,
    "ExecuteTime": {
     "start_time": "2024-04-28T01:39:59.431126300Z"
    }
   },
   "execution_count": null,
   "outputs": []
  },
  {
   "cell_type": "markdown",
   "source": [
    "<p style=\"font-family: 'Segoe UI', san-serif; text-align: left;\n",
    "          font-size: 24px; letter-spacing: .85px;color: #121212; margin-top: 40px\">Our mean is extremely close to 0.0, but the variance is not even close to 1.0. We can apply <code>feature_extractor</code> to normalize the data.</p>"
   ],
   "metadata": {}
  },
  {
   "cell_type": "code",
   "source": [
    "# Normalizing audio data\n",
    "inputs = feature_extractor(sample['array'], sampling_rate = sample['sampling_rate'])\n",
    "\n",
    "print(f\"\\nInputs Keys: {list(inputs.keys())}\\n\")\n",
    "\n",
    "print(\n",
    "    f\" Mean: {np.mean(inputs['input_values']):.3}, Variance: {np.var(inputs['input_values']):.3}\"\n",
    ")"
   ],
   "metadata": {
    "_kg_hide-input": true,
    "execution": {
     "iopub.execute_input": "2023-11-27T22:10:29.897717Z",
     "iopub.status.busy": "2023-11-27T22:10:29.897369Z",
     "iopub.status.idle": "2023-11-27T22:10:29.906974Z",
     "shell.execute_reply": "2023-11-27T22:10:29.905993Z",
     "shell.execute_reply.started": "2023-11-27T22:10:29.897686Z"
    },
    "trusted": true,
    "ExecuteTime": {
     "start_time": "2024-04-28T01:39:59.432126700Z"
    }
   },
   "execution_count": null,
   "outputs": []
  },
  {
   "cell_type": "markdown",
   "source": [
    "<p style=\"font-family: 'Segoe UI', san-serif; text-align: left;\n",
    "          font-size: 24px; letter-spacing: .85px;color: #121212; margin-top: 40px\">Success! We now have variance $1.0$. </p>"
   ],
   "metadata": {}
  },
  {
   "cell_type": "markdown",
   "source": [
    "<p style=\"font-family: 'Segoe UI', san-serif; text-align: left;\n",
    "          font-size: 24px; letter-spacing: .85px;color: #121212; margin-top: 40px\">By appling <code>feature_extractor</code>, we obtain a dictionary of two arrays: <code>input_values</code> and <code>attention_mask</code>. The <code>input_values</code> array contains the preprocessed audio inputs that we will pass to our HuBERT model.</p>"
   ],
   "metadata": {}
  },
  {
   "cell_type": "markdown",
   "source": [
    "<p style=\"font-family: 'Segoe UI', san-serif; text-align: left;\n",
    "          font-size: 24px; letter-spacing: .85px;color: #121212; margin-top: 40px\">By now, we have only applied the normalization to one single sample. Let's build a preprocessing function, so we can perform the steps above to the entire dataset at once.</p>"
   ],
   "metadata": {}
  },
  {
   "cell_type": "code",
   "source": [
    "# Defining audio maximum duration\n",
    "max_duration = 30.0 # 30 seconds\n",
    "\n",
    "def preprocess_function(examples):\n",
    "    # Extracting and saving arrays \n",
    "    audio_arrays = [x['array'] for x in examples['audio']]\n",
    "    \n",
    "    # Preprocessing audio inputs\n",
    "    inputs = feature_extractor(audio_arrays,\n",
    "                              sampling_rate = feature_extractor.sampling_rate,\n",
    "                              max_length = int(feature_extractor.sampling_rate * max_duration),\n",
    "                              truncation = True,\n",
    "                              return_attention_mask = True)\n",
    "    \n",
    "    return inputs"
   ],
   "metadata": {
    "execution": {
     "iopub.execute_input": "2023-11-27T22:10:29.908851Z",
     "iopub.status.busy": "2023-11-27T22:10:29.908230Z",
     "iopub.status.idle": "2023-11-27T22:10:29.914458Z",
     "shell.execute_reply": "2023-11-27T22:10:29.913563Z",
     "shell.execute_reply.started": "2023-11-27T22:10:29.908819Z"
    },
    "trusted": true,
    "ExecuteTime": {
     "start_time": "2024-04-28T01:39:59.433126600Z"
    }
   },
   "execution_count": null,
   "outputs": []
  },
  {
   "cell_type": "markdown",
   "source": [
    "<p style=\"font-family: 'Segoe UI', san-serif; text-align: left;\n",
    "          font-size: 24px; letter-spacing: .85px;color: #121212; margin-top: 40px\">Let's use the <code>map( )</code> method to apply the function above to the dataset. We will remove some columns that will not be used during training and validation, as well as define a batch size.</p>"
   ],
   "metadata": {}
  },
  {
   "cell_type": "code",
   "source": [
    "# Preprocessing data\n",
    "df = df.map(preprocess_function,\n",
    "                   remove_columns = ['audio', 'file'],\n",
    "                   batched = True,\n",
    "                   batch_size = 100,\n",
    "                   num_proc = 1)\n",
    "\n",
    "df # Visualizing results"
   ],
   "metadata": {
    "execution": {
     "iopub.execute_input": "2023-11-27T22:10:29.916397Z",
     "iopub.status.busy": "2023-11-27T22:10:29.915937Z",
     "iopub.status.idle": "2023-11-27T22:11:10.376045Z",
     "shell.execute_reply": "2023-11-27T22:11:10.375110Z",
     "shell.execute_reply.started": "2023-11-27T22:10:29.916361Z"
    },
    "trusted": true,
    "ExecuteTime": {
     "start_time": "2024-04-28T01:39:59.434126400Z"
    }
   },
   "execution_count": null,
   "outputs": []
  },
  {
   "cell_type": "markdown",
   "source": [
    "> <div style=\"\n",
    "    background-color:#3b3745;\n",
    "    text-align:left; \n",
    "    padding: 13px; \n",
    "    border-radius: 22px;\n",
    "    font-size: 14px;\n",
    "    font-weight: 300;\n",
    "    color: white;\n",
    "    opacity: 1\"> <b>📝 The `batch_size` parameter is important to define the peak RAM usage. If the code above exhaust your device's RAM, you can iteratively reduce it by a factor of 2 until it works fine for you.</b></div>"
   ],
   "metadata": {}
  },
  {
   "cell_type": "markdown",
   "source": [
    "<p style=\"font-family: 'Segoe UI', san-serif; text-align: left;\n",
    "          font-size: 24px; letter-spacing: .85px;color: #121212; margin-top: 40px\">After preprocessing the dataset, we are left with three features:</p>"
   ],
   "metadata": {}
  },
  {
   "cell_type": "markdown",
   "source": [
    "<div style = \"margin-left: 25px\">\n",
    "<p style=\"font-family: 'Segoe UI', san-serif; text-align: left;\n",
    "          font-size: 24px; letter-spacing: .85px;color: #121212;\"><b>• genre:</b> This is the target variable. This contains all the genre labels we will fine-tune our model to classify audio files.</p>\n",
    "    \n",
    "<p style=\"font-family: 'Segoe UI', san-serif; text-align: left;\n",
    "          font-size: 24px; letter-spacing: .85px;color: #121212;\"><b>• input_values:</b> This contains the encoded audio files, so the HuBERT model can accurately <i>understand</i> the data it receives.</p>\n",
    "    \n",
    "<p style=\"font-family: 'Segoe UI', san-serif; text-align: left;\n",
    "          font-size: 24px; letter-spacing: .85px;color: #121212;\"><b>• attention_mask:</b> This feature consists of binary 0 and 1 values that indicade where we have padded the audio input.</p>\n",
    "</div>"
   ],
   "metadata": {}
  },
  {
   "cell_type": "markdown",
   "source": [
    "<p style=\"font-family: 'Segoe UI', san-serif; text-align: left;\n",
    "          font-size: 24px; letter-spacing: .85px;color: #121212; margin-top: 40px\">To enable the <code>Trainer</code> class to process labels, we must rename this column to <code>label</code>.</p>"
   ],
   "metadata": {}
  },
  {
   "cell_type": "code",
   "source": [
    "# Renaming genre column\n",
    "df = df.rename_column('genre', 'label')"
   ],
   "metadata": {
    "execution": {
     "iopub.execute_input": "2023-11-27T22:11:10.377620Z",
     "iopub.status.busy": "2023-11-27T22:11:10.377247Z",
     "iopub.status.idle": "2023-11-27T22:11:10.386140Z",
     "shell.execute_reply": "2023-11-27T22:11:10.385309Z",
     "shell.execute_reply.started": "2023-11-27T22:11:10.377586Z"
    },
    "trusted": true,
    "ExecuteTime": {
     "start_time": "2024-04-28T01:39:59.435126700Z"
    }
   },
   "execution_count": null,
   "outputs": []
  },
  {
   "cell_type": "markdown",
   "source": [
    "<p style=\"font-family: 'Segoe UI', san-serif; text-align: left;\n",
    "          font-size: 24px; letter-spacing: .85px;color: #121212; margin-top: 40px\">The last step in our preprocessing journey is mapping our genre labels from integer IDs to human-readable descriptions(e.g., $7$ -> $pop$) and vice-versa. This can be easily done by using the <code>int2str( )</code> method</p>"
   ],
   "metadata": {}
  },
  {
   "cell_type": "code",
   "source": [
    "# Id to label\n",
    "id2label = {str(i): id2label_function(i)\n",
    "           for i in range(len(df['train'].features['label'].names))}\n",
    "\n",
    "# Label to id\n",
    "label2id = {v: k for k, v in id2label.items()}"
   ],
   "metadata": {
    "execution": {
     "iopub.execute_input": "2023-11-27T22:11:10.387693Z",
     "iopub.status.busy": "2023-11-27T22:11:10.387371Z",
     "iopub.status.idle": "2023-11-27T22:11:13.370723Z",
     "shell.execute_reply": "2023-11-27T22:11:13.369810Z",
     "shell.execute_reply.started": "2023-11-27T22:11:10.387662Z"
    },
    "trusted": true,
    "ExecuteTime": {
     "start_time": "2024-04-28T01:39:59.436126200Z"
    }
   },
   "execution_count": null,
   "outputs": []
  },
  {
   "cell_type": "markdown",
   "source": [
    "<p style=\"font-family: 'Segoe UI', san-serif; text-align: left;\n",
    "          font-size: 24px; letter-spacing: .85px;color: #121212; margin-top: 40px\">Let's test it.</p>"
   ],
   "metadata": {}
  },
  {
   "cell_type": "code",
   "source": [
    "integer = 7 # Defining a random int\n",
    "label = id2label[str(integer)] # Obtaining label \n",
    "\n",
    "print(f'\\nId: {integer}')\n",
    "print(f'\\nLabel: {label}')"
   ],
   "metadata": {
    "_kg_hide-input": true,
    "execution": {
     "iopub.execute_input": "2023-11-27T22:11:13.372849Z",
     "iopub.status.busy": "2023-11-27T22:11:13.372014Z",
     "iopub.status.idle": "2023-11-27T22:11:13.381178Z",
     "shell.execute_reply": "2023-11-27T22:11:13.380246Z",
     "shell.execute_reply.started": "2023-11-27T22:11:13.372810Z"
    },
    "trusted": true,
    "ExecuteTime": {
     "start_time": "2024-04-28T01:39:59.436126200Z"
    }
   },
   "execution_count": null,
   "outputs": []
  },
  {
   "cell_type": "markdown",
   "source": [
    "<p style=\"font-family: 'Segoe UI', san-serif; text-align: left;\n",
    "          font-size: 24px; letter-spacing: .85px;color: #121212; margin-top: 40px\">It is working as intended.</p>"
   ],
   "metadata": {}
  },
  {
   "cell_type": "markdown",
   "source": [
    "<div id = 'fine-tuning'\n",
    "     style=\"font-family: 'Segoe UI', sans-serif; text-align: left;\">\n",
    "    <div style=\"font-size: 56px; letter-spacing: 4.25px;color: #121212;\n",
    "                text-shadow: 0 2px 2px rgba(0,0,0,0.2);\n",
    "                border-bottom: 1.25px solid #121212\"><b>Fine-tuning HuBERT</b></div>\n",
    "</div>"
   ],
   "metadata": {}
  },
  {
   "cell_type": "markdown",
   "source": [
    "<img style=\"float:left; margin-top: 0;\n",
    "    margin:0; \n",
    "    padding:20px;\" src = \"https://i.imgur.com/pWBYP55.png\" width = 230, height= 230>\n",
    "<p style=\"font-family: 'Segoe UI', san-serif; text-align: left;\n",
    "          font-size: 24px; letter-spacing: .85px;color: #121212; margin-top: 40px\">The data is preprocessed and ready to be used for fine-tuning the HuBERT model for the task of music genre classification.</p>\n",
    "          \n",
    "<p style=\"font-family: 'Segoe UI', san-serif; text-align: left;\n",
    "          font-size: 24px; letter-spacing: .85px;color: #121212; margin-top: 40px\">For this task, we are going to use 🤗 Transformers' <code>Trainer</code> and <code>TrainingArguments</code>.</p>\n",
    "\n",
    "<p style=\"font-family: 'Segoe UI', san-serif; text-align: left;\n",
    "          font-size: 24px; letter-spacing: .85px;color: #121212; margin-top: 40px\">Let's go ahead and use <code>AutoModelForAudioClassification</code> to load our model with the appropriate classification head for this task and visualize its architecture.</p>"
   ],
   "metadata": {}
  },
  {
   "cell_type": "code",
   "source": [
    "num_labels = len(id2label) # Obtaining the total number of labels\n",
    "\n",
    "# Loading model\n",
    "hubert_model = AutoModelForAudioClassification.from_pretrained(model,\n",
    "                                                         num_labels = num_labels,\n",
    "                                                         label2id=label2id,\n",
    "                                                         id2label=id2label)"
   ],
   "metadata": {
    "execution": {
     "iopub.execute_input": "2023-11-27T22:11:13.382740Z",
     "iopub.status.busy": "2023-11-27T22:11:13.382450Z",
     "iopub.status.idle": "2023-11-27T22:11:15.026212Z",
     "shell.execute_reply": "2023-11-27T22:11:15.025313Z",
     "shell.execute_reply.started": "2023-11-27T22:11:13.382709Z"
    },
    "trusted": true,
    "ExecuteTime": {
     "start_time": "2024-04-28T01:39:59.437636100Z"
    }
   },
   "execution_count": null,
   "outputs": []
  },
  {
   "cell_type": "code",
   "source": [
    "# Visualizing model's architecture\n",
    "print('\\nHuBERT Architecture')\n",
    "print(hubert_model) "
   ],
   "metadata": {
    "_kg_hide-input": true,
    "execution": {
     "iopub.execute_input": "2023-11-27T22:11:15.027674Z",
     "iopub.status.busy": "2023-11-27T22:11:15.027382Z",
     "iopub.status.idle": "2023-11-27T22:11:15.033601Z",
     "shell.execute_reply": "2023-11-27T22:11:15.032605Z",
     "shell.execute_reply.started": "2023-11-27T22:11:15.027648Z"
    },
    "trusted": true,
    "ExecuteTime": {
     "start_time": "2024-04-28T01:39:59.438647600Z"
    }
   },
   "execution_count": null,
   "outputs": []
  },
  {
   "cell_type": "markdown",
   "source": [
    "<p style=\"font-family: 'Segoe UI', san-serif; text-align: left;\n",
    "          font-size: 24px; letter-spacing: .85px;color: #121212; margin-top: 40px\">I will now set the training arguments and define a function for accuracy computing. We can then start the fine-tuning process.</p>"
   ],
   "metadata": {}
  },
  {
   "cell_type": "code",
   "source": [
    "# Setting training arguments\n",
    "training_args = TrainingArguments(\n",
    "    output_dir = 'hubert_gtzan',\n",
    "    evaluation_strategy = 'epoch',\n",
    "    save_strategy = 'epoch',\n",
    "    load_best_model_at_end = True,\n",
    "    metric_for_best_model = 'accuracy',\n",
    "    learning_rate = 5e-5,\n",
    "    seed = seed,\n",
    "    per_device_train_batch_size = 8,\n",
    "    per_device_eval_batch_size = 8,\n",
    "    gradient_accumulation_steps = 1,\n",
    "    num_train_epochs = 15,\n",
    "    warmup_ratio = 0.1,\n",
    "    fp16 = True,\n",
    "    save_total_limit = 2,\n",
    "    report_to = 'none'\n",
    "    )"
   ],
   "metadata": {
    "execution": {
     "iopub.execute_input": "2023-11-27T22:11:15.035036Z",
     "iopub.status.busy": "2023-11-27T22:11:15.034745Z",
     "iopub.status.idle": "2023-11-27T22:11:15.050314Z",
     "shell.execute_reply": "2023-11-27T22:11:15.049548Z",
     "shell.execute_reply.started": "2023-11-27T22:11:15.035011Z"
    },
    "trusted": true,
    "ExecuteTime": {
     "start_time": "2024-04-28T01:39:59.439647300Z"
    }
   },
   "execution_count": null,
   "outputs": []
  },
  {
   "cell_type": "markdown",
   "source": [
    "> <div style=\"\n",
    "    background-color:#3b3745;\n",
    "    text-align:left; \n",
    "    padding: 13px; \n",
    "    border-radius: 22px;\n",
    "    font-size: 14px;\n",
    "    font-weight: 300;\n",
    "    color: white;\n",
    "    opacity: 1\"> <b>📝 If you encounter a CUDA <i>out-of-memory</i> error during training, you can reduce `batch_size` and increase `gradient_acumulation_steps` to solve the problem.</b></div>"
   ],
   "metadata": {}
  },
  {
   "cell_type": "code",
   "source": [
    "# Loading `accuracy` metric from the evaluate library\n",
    "metric = evaluate.load('accuracy')\n",
    "# Creating function to compute accuracy\n",
    "def compute_metrics(eval_pred):\n",
    "    predictions = np.argmax(eval_pred.predictions, axis = 1)\n",
    "    return metric.compute(predictions = predictions, references = eval_pred.label_ids)"
   ],
   "metadata": {
    "execution": {
     "iopub.execute_input": "2023-11-27T22:11:15.051769Z",
     "iopub.status.busy": "2023-11-27T22:11:15.051475Z",
     "iopub.status.idle": "2023-11-27T22:11:15.894823Z",
     "shell.execute_reply": "2023-11-27T22:11:15.894113Z",
     "shell.execute_reply.started": "2023-11-27T22:11:15.051745Z"
    },
    "trusted": true,
    "ExecuteTime": {
     "start_time": "2024-04-28T01:39:59.440647700Z"
    }
   },
   "execution_count": null,
   "outputs": []
  },
  {
   "cell_type": "code",
   "source": [
    "# Setting trainer\n",
    "trainer = Trainer(\n",
    "    model=hubert_model, \n",
    "    args = training_args,\n",
    "    train_dataset = df['train'],\n",
    "    eval_dataset = df['test'],\n",
    "    tokenizer = feature_extractor,\n",
    "    compute_metrics = compute_metrics)"
   ],
   "metadata": {
    "execution": {
     "iopub.execute_input": "2023-11-27T22:11:15.896124Z",
     "iopub.status.busy": "2023-11-27T22:11:15.895841Z",
     "iopub.status.idle": "2023-11-27T22:11:21.013165Z",
     "shell.execute_reply": "2023-11-27T22:11:21.012168Z",
     "shell.execute_reply.started": "2023-11-27T22:11:15.896099Z"
    },
    "trusted": true,
    "ExecuteTime": {
     "start_time": "2024-04-28T01:39:59.441647Z"
    }
   },
   "execution_count": null,
   "outputs": []
  },
  {
   "cell_type": "code",
   "source": [
    "# Training\n",
    "trainer.train()"
   ],
   "metadata": {
    "execution": {
     "iopub.execute_input": "2023-11-27T22:11:21.014662Z",
     "iopub.status.busy": "2023-11-27T22:11:21.014384Z",
     "iopub.status.idle": "2023-11-28T01:35:55.683249Z",
     "shell.execute_reply": "2023-11-28T01:35:55.682290Z",
     "shell.execute_reply.started": "2023-11-27T22:11:21.014638Z"
    },
    "trusted": true,
    "ExecuteTime": {
     "start_time": "2024-04-28T01:39:59.441647Z"
    }
   },
   "execution_count": null,
   "outputs": []
  },
  {
   "cell_type": "markdown",
   "source": [
    "<p style=\"font-family: 'Segoe UI', san-serif; text-align: left;\n",
    "          font-size: 24px; letter-spacing: .85px;color: #121212; margin-top: 40px\">Our best evaluation accuracy is <b><i>78.5%</i></b>. We can now save our model and the feature extractor for further use, model deploy, and even upload on Hugging Face Models so others can fine-tune it even further on their own tasks and data.</p>"
   ],
   "metadata": {}
  },
  {
   "cell_type": "code",
   "source": [
    "# Saving model & feature extractor\n",
    "directory = 'fine_tuned_hubert'\n",
    "trainer.save_model(directory)\n",
    "feature_extractor.save_pretrained(directory)"
   ],
   "metadata": {
    "execution": {
     "iopub.execute_input": "2023-11-28T01:35:55.684604Z",
     "iopub.status.busy": "2023-11-28T01:35:55.684341Z",
     "iopub.status.idle": "2023-11-28T01:35:55.813032Z",
     "shell.execute_reply": "2023-11-28T01:35:55.812082Z",
     "shell.execute_reply.started": "2023-11-28T01:35:55.684581Z"
    },
    "trusted": true,
    "ExecuteTime": {
     "start_time": "2024-04-28T01:39:59.443647200Z"
    }
   },
   "execution_count": null,
   "outputs": []
  },
  {
   "cell_type": "markdown",
   "source": [
    "<p style=\"font-family: 'Segoe UI', san-serif; text-align: left;\n",
    "          font-size: 24px; letter-spacing: .85px;color: #121212; margin-top: 40px\">The model trained in this notebook has been uploaded to Hugging Face and you can use it in your own applications. Just click on <b><i><a href = \"https://huggingface.co/luisotorres/hubert_gtzan\">luisotorres/hubert_gtzan</a></i></b> to check it.</p>\n",
    "          \n",
    "<p style=\"font-family: 'Segoe UI', san-serif; text-align: left;\n",
    "          font-size: 24px; letter-spacing: .85px;color: #121212; margin-top: 40px\">You can also load it on an audio-classification pipeline to test it using your own custom audios.</p>"
   ],
   "metadata": {}
  },
  {
   "cell_type": "markdown",
   "source": [
    "> <div style=\"\n",
    "    background-color:#3b3745;\n",
    "    text-align:left; \n",
    "    padding: 13px; \n",
    "    border-radius: 22px;\n",
    "    font-size: 14px;\n",
    "    font-weight: 300;\n",
    "    color: white;\n",
    "    opacity: 1\"> <i><b>from transformers import pipeline<br><br>\n",
    "pipe = pipeline(\n",
    "    \"audio-classification\", model=\"luisotorres/hubert_gtzan\"\n",
    ")</b></i></div>"
   ],
   "metadata": {}
  },
  {
   "cell_type": "markdown",
   "source": [
    "<div id = 'conclusion'\n",
    "     style=\"font-family: 'Segoe UI', sans-serif; text-align: left;\">\n",
    "    <div style=\"font-size: 56px; letter-spacing: 4.25px;color: #121212;\n",
    "                text-shadow: 0 2px 2px rgba(0,0,0,0.2);\n",
    "                border-bottom: 1.25px solid #121212\"><b>Conclusion</b></div>\n",
    "</div>"
   ],
   "metadata": {}
  },
  {
   "cell_type": "markdown",
   "source": [
    "<img style=\"float:left; margin-top: 0;\n",
    "    margin:0; \n",
    "    padding:20px;\" src = \"https://i.imgur.com/cq7Vl9d.png\" width = 230, height= 230>\n",
    "<p style=\"font-family: 'Segoe UI', san-serif; text-align: left;\n",
    "          font-size: 24px; letter-spacing: .85px;color: #121212; margin-top: 40px\">In this notebook, we have explored the details behind <b>audio processing</b> and how <b>Transformer</b> architectures can be efficiently used in several audio tasks.</p>\n",
    "          \n",
    "<p style=\"font-family: 'Segoe UI', san-serif; text-align: left;\n",
    "          font-size: 24px; letter-spacing: .85px;color: #121212; margin-top: 40px\">More specifically, we have employed the convenience of the 🤗 Transformers library to fine-tune a distilled version of the <b>HuBERT</b> model on the <b>GTZAN</b> dataset for the task of <b>audio classification</b>.</p>\n",
    "\n",
    "<p style=\"font-family: 'Segoe UI', san-serif; text-align: left;\n",
    "          font-size: 24px; letter-spacing: .85px;color: #121212; margin-top: 40px\">I truly hope this notebook serves as a good introduction for those interested in leveraging deep learning frameworks for working with audio data, as well as a good source for those who are veterans in search of refining their knowledge on the subject.</p>\n",
    "          \n",
    "<p style=\"font-family: 'Segoe UI', san-serif; text-align: left;\n",
    "          font-size: 24px; letter-spacing: .85px;color: #121212; margin-top: 40px\">Feel free to leave your comments, suggestions, and ideas. Your feedback is highly appreciated!</p>\n",
    "          \n",
    "<p style=\"font-family: 'Segoe UI', san-serif; text-align: left;\n",
    "          font-size: 24px; letter-spacing: .85px;color: #121212; margin-top: 40px\">If you like the content presented in this notebook, your upvote is also extremely appreciated.</p>\n",
    "          \n",
    "<p style=\"font-family: 'Segoe UI', san-serif; text-align: left;\n",
    "          font-size: 24px; letter-spacing: .85px;color: #121212; margin-top: 40px\">Thank you!</p>"
   ],
   "metadata": {}
  },
  {
   "cell_type": "markdown",
   "source": [
    "<hr style=\"border: 0; \n",
    "           height: 1px; \n",
    "           border-top: 0.85px; \n",
    "           solid #b2b2b2\">\n",
    "           \n",
    "<div style=\"text-align: left; \n",
    "            color: #8d8d8d; \n",
    "            padding-left: 15px; \n",
    "            font-size: 14.25px;\">\n",
    "    Luis Fernando Torres, 2023 <br><br>\n",
    "    Let's connect!🔗<br>\n",
    "    <a href=\"https://www.linkedin.com/in/luuisotorres/\">LinkedIn</a> • <a href=\"https://medium.com/@luuisotorres\">Medium</a> • <a href = \"https://huggingface.co/luisotorres\">Hugging Face</a><br><br>\n",
    "</div>\n",
    "<div style=\"text-align: center; \n",
    "            margin-top: 50px;\n",
    "            color: #8d8d8d; \n",
    "            padding-left: 15px; \n",
    "            font-size: 14.25px;\"><b>Like my content? Feel free to <a href=\"https://www.buymeacoffee.com/luuisotorres\">Buy Me a Coffee ☕</a></b>\n",
    "</div>\n",
    "<div style=\"text-align: center; \n",
    "            margin-top: 80px;\n",
    "            color: #8d8d8d; \n",
    "            padding-left: 15px; \n",
    "            font-size: 14.25px;\"><b>  <a href = \"https://luuisotorres.github.io/\">https://luuisotorres.github.io/</a> </b>\n",
    "</div>"
   ],
   "metadata": {}
  }
 ]
}
